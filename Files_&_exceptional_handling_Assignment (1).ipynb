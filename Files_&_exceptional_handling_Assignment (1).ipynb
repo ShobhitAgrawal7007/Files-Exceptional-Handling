{
  "nbformat": 4,
  "nbformat_minor": 0,
  "metadata": {
    "colab": {
      "provenance": []
    },
    "kernelspec": {
      "name": "python3",
      "display_name": "Python 3"
    },
    "language_info": {
      "name": "python"
    }
  },
  "cells": [
    {
      "cell_type": "markdown",
      "source": [
        "# Files & Exceptional Handling Assignment(Theory)"
      ],
      "metadata": {
        "id": "3ZysYY1d3C5A"
      }
    },
    {
      "cell_type": "markdown",
      "source": [
        "1. What is the difference between interpreted and compiled languages?"
      ],
      "metadata": {
        "id": "pgDOauF_3P5f"
      }
    },
    {
      "cell_type": "markdown",
      "source": [
        "The main difference between interpreted and compiled programming languages lies in how their source code is executed.\n",
        "\n",
        "Difference between are as follows:\n",
        "\n",
        "Interpreted Languages:\n",
        "\n",
        "1. Execution: Instructions are executed directly from the source code, line by line.\n",
        "2. Translation: An interpreter translates each line of code into machine code as it's being executed.\n",
        "3. Speed: Generally slower than compiled languages because the translation happens at runtime.\n",
        "4. Development: Can be faster for development because changes can be tested immediately without recompilation.\n",
        "5. Examples: Python, JavaScript, PHP, Ruby.\n",
        "\n",
        "Compiled Languages:\n",
        "\n",
        "1. Execution: The entire code is translated into machine code by a compiler before execution.\n",
        "2. Translation: Translation happens once, before the program is run, creating an executable file.\n",
        "3. Speed: Generally faster than interpreted languages because the translation is done upfront.\n",
        "4. Development: Compilation and testing can be slower, as the entire program needs to be recompiled after changes.\n",
        "5. Examples: C, C++, Java, Go."
      ],
      "metadata": {
        "id": "xUqlArlw3gX6"
      }
    },
    {
      "cell_type": "markdown",
      "source": [
        "2. What is exception handling in Python?"
      ],
      "metadata": {
        "id": "gufIF9Jv4x5e"
      }
    },
    {
      "cell_type": "markdown",
      "source": [
        "Exception handling in Python is a mechanism to manage errors that occur during the execution of a program. These errors, known as exceptions, can disrupt the normal flow of the program, potentially causing it to terminate abruptly. Exception handling allows developers to anticipate and respond to these errors gracefully, preventing crashes and ensuring the program continues to run smoothly.\n",
        "\n",
        "Exception handling how it works:\n",
        "\n",
        "Python's exception handling is built around try, except, else, and finally blocks. The code that might raise an exception is placed inside a try block. If an exception occurs within the try block, the program immediately jumps to the corresponding except block, which specifies how to handle that particular exception. If no exception occurs, the except block is skipped. The else block, if present, is executed only if no exception occurs in the try block. Finally, the finally block is always executed, regardless of whether an exception occurred or not, making it suitable for cleanup actions."
      ],
      "metadata": {
        "id": "NaZFfvzu47sX"
      }
    },
    {
      "cell_type": "markdown",
      "source": [
        "3. What is the purpose of the finally block in exception handling?"
      ],
      "metadata": {
        "id": "78JxKWRz6Pl7"
      }
    },
    {
      "cell_type": "markdown",
      "source": [
        "The purpose of the finally block in exception handling is to ensure that certain code, often cleanup or resource release tasks, is executed regardless of whether an exception was thrown within the preceding try block. It guarantees that these crucial actions are performed, even if the try block exits due to an exception being thrown, handled, or if it exits normally."
      ],
      "metadata": {
        "id": "WfKfEDMo6qmF"
      }
    },
    {
      "cell_type": "markdown",
      "source": [
        "4. What is logging in Python?"
      ],
      "metadata": {
        "id": "oab5pDk67BIo"
      }
    },
    {
      "cell_type": "markdown",
      "source": [
        "Logging in Python is a built-in module that provides a flexible framework for tracking events that occur during the execution of a program. It allows developers to record information about the program's behavior, including errors, warnings, and other significant events. This information is valuable for debugging, monitoring, and understanding the program's execution flow.\n",
        "\n",
        "Python's logging module offers different log levels to categorize the severity of events:\n",
        "\n",
        "1. DEBUG: Detailed information, typically used for debugging purposes.\n",
        "2. INFO: General information about the program's execution.\n",
        "3. WARNING: Indicates a potential issue or unexpected event.\n",
        "4. ERROR: Signifies a significant problem that may affect the program's functionality.\n",
        "5. CRITICAL: Denotes a severe error that may lead to program termination."
      ],
      "metadata": {
        "id": "_qJ1b9SU7Ji5"
      }
    },
    {
      "cell_type": "markdown",
      "source": [
        "5. What is the significance of the __del__ method in Python?"
      ],
      "metadata": {
        "id": "rMBTisx67pfW"
      }
    },
    {
      "cell_type": "markdown",
      "source": [
        "The __del__ method in Python, also known as a destructor, is called when an object is about to be destroyed. It provides an opportunity to perform cleanup actions, such as releasing external resources or finalizing operations before the object's memory is reclaimed by the garbage collector.\n",
        "\n",
        "The __del__ method is automatically invoked when all references to an object have been removed, and it is eligible for garbage collection. However, the timing of its execution is not guaranteed and depends on the garbage collection cycle. Because of this uncertainty, relying on __del__ for critical cleanup tasks is generally discouraged. It is better suited for non-critical cleanup or logging purposes."
      ],
      "metadata": {
        "id": "t5QWUrr27wVH"
      }
    },
    {
      "cell_type": "markdown",
      "source": [
        "6. What is the difference between import and from ... import in Python?"
      ],
      "metadata": {
        "id": "zqFQbcb78TjN"
      }
    },
    {
      "cell_type": "markdown",
      "source": [
        "In Python, both import and from ... import are used to access external code, but they differ in how they make the imported elements available:\n",
        "\n",
        "1. import module_name: This statement imports the entire module. To access functions or variables within the module, one must use the module name as a prefix (e.g., module_name.function_name).\n",
        "\n",
        "2. from module_name import element_name: This statement imports specific elements (functions, classes, variables) directly into the current namespace. These elements can then be used without the module name prefix (e.g., function_name)."
      ],
      "metadata": {
        "id": "gKaUJoC_8acV"
      }
    },
    {
      "cell_type": "markdown",
      "source": [
        "7. How can you handle multiple exceptions in Python?"
      ],
      "metadata": {
        "id": "Y_0OwYHM9BkM"
      }
    },
    {
      "cell_type": "markdown",
      "source": [
        "Multiple exceptions in Python can be handled using several approaches:\n",
        "\n",
        "Using a single except block with a tuple of exceptions: This is the most common and recommended way to handle multiple exceptions when the same action needs to be performed for all of them. For Example:\n",
        "\n",
        " try:\n",
        "        # Code that might raise exceptions\n",
        "        result = 10 / int(input(\"Enter a number: \"))\n",
        "        print(f\"Result: {result}\")\n",
        "    except (ValueError, ZeroDivisionError):\n",
        "        print(\"Invalid input or division by zero.\")\n",
        "\n",
        "Using multiple except blocks: This approach is used when different actions need to be taken for different exceptions.\n",
        "\n",
        " try:\n",
        "        # Code that might raise exceptions\n",
        "        file = open(\"example.txt\", \"r\")\n",
        "        data = file.read()\n",
        "        value = int(data)\n",
        "    except FileNotFoundError:\n",
        "        print(\"File not found.\")\n",
        "    except ValueError:\n",
        "        print(\"Invalid data in file.\")\n",
        "    finally:\n",
        "      if 'file' in locals():\n",
        "        file.close()\n",
        "\n",
        "Using a base class for exceptions: If you want to catch a group of related exceptions, you can use their common base class.\n",
        "\n",
        " try:\n",
        "        # Code that might raise exceptions\n",
        "        pass\n",
        "    except ArithmeticError:\n",
        "        print(\"An arithmetic error occurred.\")\n",
        "    except Exception as e:\n",
        "        print(f\"An error occurred: {e}\")\n",
        "\n",
        "Using ExceptionGroup (Python 3.11+): For handling multiple exceptions raised simultaneously, especially in concurrent code.\n",
        "\n",
        " try:\n",
        "        # Code that might raise multiple exceptions\n",
        "        raise ExceptionGroup(\"Multiple errors\", [ValueError(\"Invalid value\"), TypeError(\"Invalid type\")])\n",
        "    except* ValueError as e:\n",
        "        print(f\"ValueError occurred: {e.exceptions}\")\n",
        "    except* TypeError as e:\n",
        "        print(f\"TypeError occurred: {e.exceptions}\")\n",
        "    except* ExceptionGroup as e:\n",
        "        print(f\"Other exceptions occurred: {e.exceptions}\")"
      ],
      "metadata": {
        "id": "yH66R8b49I-0"
      }
    },
    {
      "cell_type": "markdown",
      "source": [
        "8. What is the purpose of the with statement when handling files in Python?"
      ],
      "metadata": {
        "id": "-rOGh9lmCQrX"
      }
    },
    {
      "cell_type": "markdown",
      "source": [
        "The with statement in Python serves to streamline resource management, particularly in file handling. It ensures that files are properly closed after their operations are completed, even if exceptions occur. This mechanism prevents resource leaks and data corruption, making code cleaner and more robust. The with statement operates by calling the __enter__ method upon entering the block and the __exit__ method upon exiting, regardless of how the block concludes. For file operations, this means the file is automatically closed when the with block finishes.\n",
        "\n",
        "Example:\n",
        "\n",
        "with open(\"my_file.txt\", \"r\") as file:\n",
        "\n",
        "    data = file.read()\n"
      ],
      "metadata": {
        "id": "f9L86tM2CnNk"
      }
    },
    {
      "cell_type": "markdown",
      "source": [
        "9. What is the difference between multithreading and multiprocessing?"
      ],
      "metadata": {
        "id": "BJSIJrzVC7j8"
      }
    },
    {
      "cell_type": "markdown",
      "source": [
        "Multithreading involves creating multiple threads within a single process, enabling concurrency, while multiprocessing involves running multiple independent processes, each with its own memory space.\n",
        "\n",
        "Multithreading:\n",
        "\n",
        "1. Concurrency within a single process: Threads share the same memory space and resources of a single process.\n",
        "2. Resource sharing: Threads can access and modify shared data without complex communication mechanisms.\n",
        "3. Lightweight: Creating and managing threads is generally less resource-intensive than creating and managing processes.\n",
        "4. Good for I/O-bound tasks: Threads can release the GIL (Global Interpreter Lock) in Python during I/O operations, allowing other threads to execute.\n",
        "5. Limited parallelism: In Python, the GIL restricts true parallelism for CPU-bound tasks.\n",
        "\n",
        "Multiprocessing:\n",
        "\n",
        "1. True parallelism: Processes run independently, each with its own memory space, allowing true parallel execution on multi-core systems.\n",
        "2. Resource isolation: Processes don't share memory, reducing the risk of race conditions and making synchronization more complex.\n",
        "3. Higher overhead: Creating and managing processes is generally more resource-intensive than creating and managing threads.\n",
        "4. Best for CPU-bound tasks: Multiprocessing can leverage multiple cores to fully utilize CPU resources for CPU-intensive tasks.\n",
        "5. Requires explicit communication: Processes need to communicate explicitly, often using queues or pipes."
      ],
      "metadata": {
        "id": "FDViWssoDIuH"
      }
    },
    {
      "cell_type": "markdown",
      "source": [
        "10. What are the advantages of using logging in a program?"
      ],
      "metadata": {
        "id": "tjx8dlPmEIQ3"
      }
    },
    {
      "cell_type": "markdown",
      "source": [
        "Logging provides significant advantages in program development and maintenance, primarily by enabling efficient debugging, performance monitoring, and security tracking. It helps developers gain insights into program behavior, identify issues, and make informed decisions about code optimization and system health.\n",
        "\n",
        "Some more advantages are:\n",
        "\n",
        "1. Debugging and Troubleshooting:\n",
        "\n",
        "(A). Tracing Execution Flow.\n",
        "\n",
        "(B). Identifying Root Causes.\n",
        "\n",
        "(C). Contextual Information.\n",
        "\n",
        "(D). Reducing Time-to-Fix.\n",
        "\n",
        "2. Performance Monitoring:\n",
        "\n",
        "(A). Real-Time Visibility.\n",
        "\n",
        "(B). Performance Trends.\n",
        "\n",
        "(C). Alerting and Notifications."
      ],
      "metadata": {
        "id": "vnR_KX-AERPY"
      }
    },
    {
      "cell_type": "markdown",
      "source": [
        "11. What is memory management in Python?"
      ],
      "metadata": {
        "id": "0fYKuXW2F1Y_"
      }
    },
    {
      "cell_type": "markdown",
      "source": [
        "Python memory management is the process of allocating and dealing with memory so that your programs can run efficiently. One advantage of Python, compared to other programming languages, is that it can perform memory management tasks automatically.\n",
        "\n",
        "The Python memory manager utilizes a combination of techniques:\n",
        "\n",
        "1. Reference counting:\n",
        "Tracks the number of references to each object. When the count drops to zero, the memory occupied by the object is reclaimed.\n",
        "\n",
        "2. Garbage collection:\n",
        "Periodically identifies and reclaims memory occupied by objects that are no longer accessible, even if their reference count is not zero (e.g., in cases of circular references)."
      ],
      "metadata": {
        "id": "EvmZVe4WF8hX"
      }
    },
    {
      "cell_type": "markdown",
      "source": [
        "12. What are the basic steps involved in exception handling in Python?"
      ],
      "metadata": {
        "id": "ZPFts8dFHGb6"
      }
    },
    {
      "cell_type": "markdown",
      "source": [
        "Exception handling in Python involves anticipating, intercepting, and responding to errors that may occur during the execution of a program. The primary steps are:\n",
        "\n",
        "1. Try Block:\n",
        "Enclose the code that might raise an exception within a try block. This signals to Python that this section of code needs monitoring for potential errors.\n",
        "2. Except Block(s):\n",
        "Follow the try block with one or more except blocks. Each except block specifies the type of exception it can handle. If an exception occurs within the try block that matches an except block's specified type, the code within that except block will be executed.\n",
        "3. Else Block (Optional):\n",
        "After all except blocks, an optional else block can be included. The code within the else block executes only if no exceptions were raised in the try block.\n",
        "4. Finally Block (Optional):\n",
        "A finally block can be added after the except and else blocks. The code within the finally block will always execute, regardless of whether an exception was raised or caught. It is typically used for cleanup actions, such as closing files or releasing resources.\n",
        "5. Raise Statement:\n",
        "To explicitly raise an exception, use the raise keyword followed by the exception object or type. This can be useful for re-raising an exception after logging it or for signaling errors in custom code.\n",
        "6. Assert Statement:\n",
        "The assert statement is used for debugging and testing purposes to verify certain conditions in the code. If the condition is false, it raises an AssertionError exception."
      ],
      "metadata": {
        "id": "2CTc8s5ZHN3j"
      }
    },
    {
      "cell_type": "markdown",
      "source": [
        "13. Why is memory management important in Python?"
      ],
      "metadata": {
        "id": "8kW4sYisH66h"
      }
    },
    {
      "cell_type": "markdown",
      "source": [
        "Memory management is important in Python because it directly impacts the efficiency, performance, and stability of programs. Efficient memory management prevents memory leaks, reduces the program's memory footprint, and improves overall performance. Python employs automatic memory management, relieving developers from manual allocation and deallocation, but understanding its mechanisms is crucial for writing optimized code."
      ],
      "metadata": {
        "id": "1WdvTJPUIE8r"
      }
    },
    {
      "cell_type": "markdown",
      "source": [
        "14. What is the role of try and except in exception handling?"
      ],
      "metadata": {
        "id": "b9terWK2IXhP"
      }
    },
    {
      "cell_type": "markdown",
      "source": [
        "In exception handling, try and except blocks work together to gracefully handle errors that might occur during program execution. The try block contains code that might potentially raise an exception, while the except block contains the code that executes if an exception occurs within the try block.\n",
        "\n",
        "Elaboration:\n",
        "\n",
        "1. try Block:\n",
        "The try block is where you place the code that might cause an error. If an exception occurs within the try block, the execution of the try block is immediately stopped, and the program jumps to the corresponding except block.\n",
        "2. except Block:\n",
        "The except block is used to handle exceptions that are raised within the try block. When an exception is raised, the control flows to the first except block that specifies the exception type or a general except block if no specific exception types are specified. The code within the except block is executed to handle the error, such as printing an error message, attempting to recover from the error, or logging the error."
      ],
      "metadata": {
        "id": "8XzwRzrOId_O"
      }
    },
    {
      "cell_type": "markdown",
      "source": [
        "15. How does Python's garbage collection system work?"
      ],
      "metadata": {
        "id": "ZtHSwFuMI4Hb"
      }
    },
    {
      "cell_type": "markdown",
      "source": [
        "Python uses a hybrid garbage collection approach combining reference counting and generational garbage collection to manage memory effectively. Reference counting tracks how many variables point to an object; when the count reaches zero, the object is deallocated. However, Python also implements a cyclic garbage collector to handle situations where objects circularly reference each other, preventing reference counts from reaching zero."
      ],
      "metadata": {
        "id": "NPZRb87zI-Aq"
      }
    },
    {
      "cell_type": "markdown",
      "source": [
        "16. What is the purpose of the else block in exception handling?\n"
      ],
      "metadata": {
        "id": "qxsUiW9DJc1O"
      }
    },
    {
      "cell_type": "markdown",
      "source": [
        "In exception handling, the else block is executed only if no exceptions are raised within the try block. It allows you to execute code that should run when the try block completes successfully, separating it from the exception handling code.\n",
        "\n"
      ],
      "metadata": {
        "id": "-cwyNy5PJlO_"
      }
    },
    {
      "cell_type": "markdown",
      "source": [
        "17. What are the common logging levels in Python?"
      ],
      "metadata": {
        "id": "-dD5F948KOPN"
      }
    },
    {
      "cell_type": "markdown",
      "source": [
        "Python's logging module defines several standard logging levels, each with a corresponding integer value indicating its severity:\n",
        "\n",
        "1. DEBUG: Detailed information, typically used for diagnosing problems.\n",
        "2. INFO: Confirmation that things are working as expected.\n",
        "3. WARNING: An indication that something unexpected happened or might happen soon, but the software is still working as expected.\n",
        "4. ERROR: A more serious problem that has prevented the software from performing some function.\n",
        "5. CRITICAL: A severe error indicating that the program itself may be unable to continue running.\n",
        "\n",
        "The NOTSET level, with a value of 0, can also be used, and it indicates that all events should be logged. By default, the logging module is set to the WARNING level, meaning that only events of this level and above are logged."
      ],
      "metadata": {
        "id": "J08MGTqdKT0H"
      }
    },
    {
      "cell_type": "markdown",
      "source": [
        "18. What is the difference between os.fork() and multiprocessing in Python?"
      ],
      "metadata": {
        "id": "ZSTg_GH5K8E8"
      }
    },
    {
      "cell_type": "markdown",
      "source": [
        "The os.fork() system call and the multiprocessing module in Python both enable process creation, but they function differently and have distinct use cases. Here's a comparison:\n",
        "\n",
        "1. os.fork():\n",
        "(A). It is a system-level call that creates a new process by duplicating the existing one.\n",
        "\n",
        "(B). The child process is an exact copy of the parent, inheriting its memory space, file descriptors, and other resources.\n",
        "\n",
        "(C). It's available only on Unix-like systems.\n",
        "\n",
        "(D). It's a low-level operation, requiring careful handling of shared resources to avoid conflicts.\n",
        "(E).It is very fast since it copies the memory of the current process.\n",
        "\n",
        "2. multiprocessing:\n",
        "\n",
        "(A). It is a higher-level module providing a more structured way to manage processes.\n",
        "\n",
        "(B). It can use different start methods like \"fork,\" \"spawn,\" or \"forkserver\" to create new processes, offering more flexibility and portability.\n",
        "\n",
        "(C). \"Spawn\" method creates a fresh Python interpreter process, while \"fork\" directly copies the current process. \"forkserver\" starts a server process that then forks new processes.\n",
        "\n",
        "(D). It handles inter-process communication (IPC) and synchronization mechanisms, making it easier to manage complex parallel tasks.\n",
        "\n",
        "(E). It has more overhead than os.fork() due to the extra functionality it provides."
      ],
      "metadata": {
        "id": "1oawLULVLF99"
      }
    },
    {
      "cell_type": "markdown",
      "source": [
        "19. What is the importance of closing a file in Python?"
      ],
      "metadata": {
        "id": "8pl8hx03NsXD"
      }
    },
    {
      "cell_type": "markdown",
      "source": [
        "Closing a file in Python is important for several reasons:\n",
        "\n",
        "1. Resource Management:\n",
        "When a file is opened, the operating system allocates resources to manage it. Failing to close the file after use can lead to resource leaks, potentially causing performance issues or crashes if too many files are left open.\n",
        "\n",
        "2. Data Integrity:\n",
        "Data written to a file might be buffered, meaning it's temporarily stored in memory before being written to the disk. Closing the file ensures that all buffered data is flushed to the disk, preventing data loss or corruption.\n",
        "\n",
        "3. File Locking:\n",
        "Some file operations require exclusive access, meaning the file is locked to prevent other processes from accessing it. If a file is not closed, it may remain locked, preventing other processes or users from accessing it.\n",
        "\n",
        "4. Best Practice:\n",
        "Closing files is a good programming practice that improves code maintainability and robustness. It makes the code easier to understand and ensures that resources are properly managed."
      ],
      "metadata": {
        "id": "j5TMhaFgN0pS"
      }
    },
    {
      "cell_type": "markdown",
      "source": [
        "20. What is the difference between file.read() and file.readline() in Python?"
      ],
      "metadata": {
        "id": "OR2Mg-lEOIy_"
      }
    },
    {
      "cell_type": "markdown",
      "source": [
        "The core difference between file.read() and file.readline() in Python lies in how much data they read from a file at a time:\n",
        "\n",
        "1. file.read():\n",
        "\n",
        "Reads the entire file content as a single string. If a size argument is provided (e.g., file.read(size)), it reads up to that many bytes. This method is suitable for smaller files that can fit comfortably in memory.\n",
        "\n",
        "2. file.readline():\n",
        "\n",
        "Reads a single line from the file, including the newline character (\\n) at the end, and returns it as a string. Subsequent calls to readline() will read the next line, and so on. If there are no more lines to read, it returns an empty string. This is efficient for processing large files line by line, as it avoids loading the entire file into memory at once."
      ],
      "metadata": {
        "id": "F9tMsCCXOUzf"
      }
    },
    {
      "cell_type": "markdown",
      "source": [
        "21. What is the logging module in Python used for?"
      ],
      "metadata": {
        "id": "xhw4DQFzOoEz"
      }
    },
    {
      "cell_type": "markdown",
      "source": [
        "The logging module in Python is used for recording events during program execution. It allows developers to track what's happening in their code, which is crucial for debugging, troubleshooting, and monitoring application health.This module provides a flexible framework for generating log messages that can be used to understand program flow, identify issues, and even monitor user behavior and application performance."
      ],
      "metadata": {
        "id": "4_rojmf1Oxkj"
      }
    },
    {
      "cell_type": "markdown",
      "source": [
        "22. What is the os module in Python used for in file handling?"
      ],
      "metadata": {
        "id": "e1lXrdnePBym"
      }
    },
    {
      "cell_type": "markdown",
      "source": [
        "Python has a built-in os module with methods for interacting with the operating system, like creating files and directories, management of files and directories, input, output, environment variables, process management, etc."
      ],
      "metadata": {
        "id": "AGbqP-QLPHq2"
      }
    },
    {
      "cell_type": "markdown",
      "source": [
        "23. What are the challenges associated with memory management in Python?"
      ],
      "metadata": {
        "id": "FaQyb8y_PRt4"
      }
    },
    {
      "cell_type": "markdown",
      "source": [
        "Python's automatic memory management, while simplifying development, presents several challenges:\n",
        "\n",
        "1. Memory overhead:\n",
        "Python's object representation and runtime environment can lead to significant memory consumption, especially with large datasets or complex applications.\n",
        "2. Garbage collection pauses:\n",
        "The garbage collector reclaims unused memory, but it can introduce pauses in program execution, impacting performance-sensitive applications.\n",
        "3. Memory leaks:\n",
        "Although Python has automatic garbage collection, memory leaks can still occur due to circular references or when external resources are not properly released.\n",
        "4. Memory fragmentation:\n",
        "Over time, memory can become fragmented, making it difficult to allocate large blocks of contiguous memory, even if sufficient free memory exists.\n",
        "5. Limited control:\n",
        "Developers have limited control over memory allocation and deallocation, making it challenging to optimize memory usage for specific scenarios.\n",
        "6. Circular references:\n",
        "Python's reference counting system can struggle with circular references, where objects refer to each other, preventing their garbage collection.\n",
        "7. Large datasets:\n",
        "When working with large datasets, Python's memory management can become inefficient, leading to performance issues or memory errors.\n",
        "8. Inefficient data structures:\n",
        "Using data structures that consume excessive memory can exacerbate memory management problems.\n",
        "9. Concurrency issues:\n",
        "Managing memory in a multithreaded environment can be complex, requiring careful synchronization to avoid data corruption.\n",
        "10. Determining memory usage:\n",
        "It can be difficult to accurately determine how much memory a Python program is using, making it challenging to identify and address memory leaks or inefficiencies."
      ],
      "metadata": {
        "id": "8UdxaLUzPWtI"
      }
    },
    {
      "cell_type": "markdown",
      "source": [
        "24. How do you raise an exception manually in Python?"
      ],
      "metadata": {
        "id": "7FEv7i-uP4_V"
      }
    },
    {
      "cell_type": "markdown",
      "source": [
        "To raise an exception manually in Python, the raise keyword is used, followed by the exception class or instance that is going to be raised. It is possible to raise built-in exceptions or custom-defined ones. Optionally, a message can be included to provide more context about the error.\n",
        "\n",
        "Example:\n",
        "\n",
        "# Raising a built-in exception\n",
        "raise ValueError(\"Invalid input\")\n",
        "\n",
        "# Raising a custom exception\n",
        "class MyCustomError(Exception):\n",
        "    pass\n",
        "\n",
        "raise MyCustomError(\"Something went wrong\")\n",
        "\n",
        "When raising an exception, it is crucial to choose the appropriate exception type that accurately reflects the nature of the error. This practice enhances code readability and maintainability, making it easier to debug and handle errors effectively."
      ],
      "metadata": {
        "id": "TUFyTtfFP_nH"
      }
    },
    {
      "cell_type": "markdown",
      "source": [
        "25. Why is it important to use multithreading in certain applications?"
      ],
      "metadata": {
        "id": "smDsa2ITQU3a"
      }
    },
    {
      "cell_type": "markdown",
      "source": [
        "Multithreading is crucial for applications needing improved performance, responsiveness, and scalability, particularly in situations where tasks can be performed concurrently. It allows programs to run multiple parts simultaneously, efficiently utilizing system resources and reducing idle time.\n",
        "\n",
        "Why multithreading is important:\n",
        "\n",
        "1. Improved Performance:\n",
        "Multithreading enables applications to perform multiple tasks concurrently, leading to faster execution and improved throughput, especially in CPU-intensive tasks.\n",
        "2. Enhanced Responsiveness:\n",
        "By offloading long-running tasks to separate threads, the main application remains responsive and user-friendly, particularly in GUI and networked applications.\n",
        "3. Scalability:\n",
        "Multithreading allows applications to handle an increasing number of tasks or users without sacrificing performance, making them more scalable.\n",
        "4. Efficient CPU Utilization:\n",
        "Multithreading maximizes CPU utilization by allowing the CPU to switch between different threads, preventing it from idling.\n",
        "5. Resource Sharing:\n",
        "Threads within the same process share the same memory space and resources, simplifying communication and data sharing between different parts of the application.\n",
        "6. Improved Server Responsiveness:\n",
        "In server applications, multithreading allows simultaneous processing of requests, preventing slow clients or complex requests from blocking other requests.\n",
        "7. Simplified Program Structure:\n",
        "Multithreading can simplify the structure of complex applications by breaking them down into smaller, more manageable units of code.\n",
        "8. Better Communication:\n",
        "Thread synchronization mechanisms provide enhanced process-to-process communication."
      ],
      "metadata": {
        "id": "8-NcjU2KQae6"
      }
    },
    {
      "cell_type": "markdown",
      "source": [
        "# Files & exceptional handling Assignment(Practical)"
      ],
      "metadata": {
        "id": "t3jt9-lmRQ8y"
      }
    },
    {
      "cell_type": "markdown",
      "source": [
        "1. How can you open a file for writing in Python and write a string to it?"
      ],
      "metadata": {
        "id": "CGCUZwCoRb4c"
      }
    },
    {
      "cell_type": "code",
      "source": [
        "\n",
        "# Open a file for writing (this will overwrite the file if it exists)\n",
        "file = open(\"file.txt\", \"w\")\n",
        "file.write(\"Hello, world!\")"
      ],
      "metadata": {
        "id": "wzlp0thYRjBs",
        "colab": {
          "base_uri": "https://localhost:8080/"
        },
        "outputId": "65061cfb-119a-421a-dd6a-120dbd04dbf5"
      },
      "execution_count": null,
      "outputs": [
        {
          "output_type": "execute_result",
          "data": {
            "text/plain": [
              "13"
            ]
          },
          "metadata": {},
          "execution_count": 6
        }
      ]
    },
    {
      "cell_type": "markdown",
      "source": [
        "2. Write a Python program to read the contents of a file and print each line?"
      ],
      "metadata": {
        "id": "_Y5fZlxEV0cY"
      }
    },
    {
      "cell_type": "code",
      "source": [
        "# Python program to read and print each line of a file\n",
        "\n",
        "# Specify the file path\n",
        "file_path = 'example.txt'\n",
        "\n",
        "try:\n",
        "   with open(file_path, 'r') as file:\n",
        "      for line in file:\n",
        "         print(line.strip())\n",
        "except FileNotFoundError:\n",
        "    print(f\"The file '{file_path}' was not found.\")\n",
        "except IOError:\n",
        "    print(\"An error occured while reading the file.\")\n"
      ],
      "metadata": {
        "colab": {
          "base_uri": "https://localhost:8080/"
        },
        "id": "gY9OOVgHZI-0",
        "outputId": "71897ab4-fc58-4304-d015-d677f50ecbf0"
      },
      "execution_count": null,
      "outputs": [
        {
          "output_type": "stream",
          "name": "stdout",
          "text": [
            "Hello, world!\n"
          ]
        }
      ]
    },
    {
      "cell_type": "markdown",
      "source": [
        "3. How would you handle a case where the file doesn't exist while trying to open it for reading?"
      ],
      "metadata": {
        "id": "07a3yrkMaohq"
      }
    },
    {
      "cell_type": "code",
      "source": [
        "file_path = 'nonexistent_file.txt'\n",
        "\n",
        "try:\n",
        "    with open(file_path, 'r') as file:\n",
        "        for line in file:\n",
        "            print(line.strip())\n",
        "except FileNotFoundError:\n",
        "    print(f\"Error: The file '{file_path}' does not exist.\")"
      ],
      "metadata": {
        "colab": {
          "base_uri": "https://localhost:8080/"
        },
        "id": "wtj8BPn5awPj",
        "outputId": "75f9b043-9f4a-474a-98c9-11d1dad5cd7a"
      },
      "execution_count": null,
      "outputs": [
        {
          "output_type": "stream",
          "name": "stdout",
          "text": [
            "Error: The file 'nonexistent_file.txt' does not exist.\n"
          ]
        }
      ]
    },
    {
      "cell_type": "markdown",
      "source": [
        "4. Write a Python script that reads from one file and writes its content to another file?"
      ],
      "metadata": {
        "id": "rXspg9QIbrrS"
      }
    },
    {
      "cell_type": "code",
      "source": [
        "# File paths\n",
        "source_file = 'source.txt'\n",
        "destination_file = 'destination.txt'\n",
        "\n",
        "try:\n",
        "    with open(source_file, 'r') as src:\n",
        "        first_line = src.readline()\n",
        "\n",
        "    with open(destination_file, 'w') as dest:\n",
        "        dest.write(first_line)\n",
        "\n",
        "    print(\"First line copied sucessfully.\")\n",
        "except FileNotFoundError:\n",
        "    print(f\"Error: '{source_file}' not found.\")\n",
        "except IOError as e:\n",
        "    print(f\"I/O error occured: {e}\")\n",
        "\n"
      ],
      "metadata": {
        "colab": {
          "base_uri": "https://localhost:8080/"
        },
        "id": "53Vz1YgnbxuE",
        "outputId": "53d3824a-89e2-4a14-de87-c429d1c19947"
      },
      "execution_count": null,
      "outputs": [
        {
          "output_type": "stream",
          "name": "stdout",
          "text": [
            "Error: 'source.txt' not found.\n"
          ]
        }
      ]
    },
    {
      "cell_type": "markdown",
      "source": [
        "5. How would you catch and handle division by zero error in Python?"
      ],
      "metadata": {
        "id": "D3CwonTUec2z"
      }
    },
    {
      "cell_type": "code",
      "source": [
        "try:\n",
        "    numerator = 10\n",
        "    denominator = 0\n",
        "    result = numerator / denominator\n",
        "    print(f\"Result: {result}\")\n",
        "except ZeroDivisionError:\n",
        "    print(\"Error: Cannot divide by zero.\")"
      ],
      "metadata": {
        "colab": {
          "base_uri": "https://localhost:8080/"
        },
        "id": "7xqxxm3Kek88",
        "outputId": "219ebc49-b6cf-47f8-c89f-3c1351c06172"
      },
      "execution_count": null,
      "outputs": [
        {
          "output_type": "stream",
          "name": "stdout",
          "text": [
            "Error: Cannot divide by zero.\n"
          ]
        }
      ]
    },
    {
      "cell_type": "markdown",
      "source": [
        "6. Write a Python program that logs an error message to a log file when a division by zero exception occurs?"
      ],
      "metadata": {
        "id": "jMBVGuvrfUDD"
      }
    },
    {
      "cell_type": "code",
      "source": [
        "import logging\n",
        "\n",
        "# Configure the logging\n",
        "logging.basicConfig(\n",
        "    filename='error.log.txt',\n",
        "    level=logging.ERROR,\n",
        "    format='%(asctime)s - %(levelname)s - %(message)s'\n",
        ")\n",
        "\n",
        "#Division operation with error handling\n",
        "try:\n",
        "    numerator = 10\n",
        "    denomiator = 0\n",
        "    result = numerator / denomiator\n",
        "    print(f\"Result: {result}\")\n",
        "except ZeroDivisionError as e:\n",
        "    logging.error(f\"Attempted to divide by zero.\")\n",
        "    print(\"An Error occured. Check the log file for details.\")"
      ],
      "metadata": {
        "colab": {
          "base_uri": "https://localhost:8080/"
        },
        "id": "vVlkU6TlfZ9s",
        "outputId": "9d7c5d7d-38ef-465b-f501-37d97ef348c9"
      },
      "execution_count": null,
      "outputs": [
        {
          "output_type": "stream",
          "name": "stderr",
          "text": [
            "ERROR:root:Attempted to divide by zero.\n"
          ]
        },
        {
          "output_type": "stream",
          "name": "stdout",
          "text": [
            "An Error occured. Check the log file for details.\n"
          ]
        }
      ]
    },
    {
      "cell_type": "markdown",
      "source": [
        "7. How do you log information at different levels (INFO, ERROR, WARNING) in Python using the logging module?"
      ],
      "metadata": {
        "id": "EXEl9IQYi4_B"
      }
    },
    {
      "cell_type": "code",
      "source": [
        "import logging\n",
        "\n",
        "# Configure logging\n",
        "logging.basicConfig(\n",
        "    filename='app.log',\n",
        "    level=logging.DEBUG,\n",
        "    format='%(asctime)s - %(levelname)s - %(message)s'\n",
        ")\n",
        "\n",
        "#Log messages at different levels\n",
        "logging.info(\"This is an info message.\")\n",
        "logging.warning(\"This is a warning message.\")\n",
        "logging.error(\"This is an error message.\")"
      ],
      "metadata": {
        "colab": {
          "base_uri": "https://localhost:8080/"
        },
        "id": "I6z8n2_cjCFU",
        "outputId": "1e66c67b-5c39-456f-ba64-69ea31d3aee5"
      },
      "execution_count": null,
      "outputs": [
        {
          "output_type": "stream",
          "name": "stderr",
          "text": [
            "WARNING:root:This is a warning message.\n",
            "ERROR:root:This is an error message.\n"
          ]
        }
      ]
    },
    {
      "cell_type": "markdown",
      "source": [
        "8. Write a program to handle a file opening error using exception handling?"
      ],
      "metadata": {
        "id": "9VSSydkV6fKI"
      }
    },
    {
      "cell_type": "code",
      "source": [
        "def read_file(filename):\n",
        "    try:\n",
        "        with open(filename, 'r') as file:\n",
        "            content = file.read()\n",
        "            print(\"File content:\")\n",
        "            print(content)\n",
        "    except FileNotFoundError:\n",
        "            print(f\"Error: The file '{filename}' was not found.\")\n",
        "    except IOError:\n",
        "            print(f\"Error: An I/O error occured while trying to read '{filename}'.\")\n",
        "\n",
        "filename = \"example.txt\"\n",
        "read_file(filename)"
      ],
      "metadata": {
        "colab": {
          "base_uri": "https://localhost:8080/"
        },
        "id": "etBwBrGJ6nE9",
        "outputId": "07ef85eb-e7f8-42d2-be6b-74af5955a4b0"
      },
      "execution_count": null,
      "outputs": [
        {
          "output_type": "stream",
          "name": "stdout",
          "text": [
            "Error: The file 'example.txt' was not found.\n"
          ]
        }
      ]
    },
    {
      "cell_type": "markdown",
      "source": [
        "9. How can you read a file line by line and store its content in a list in Python?"
      ],
      "metadata": {
        "id": "TJWamIV58mLo"
      }
    },
    {
      "cell_type": "code",
      "source": [
        "def read_file_lines(filename):\n",
        "    try:\n",
        "        with open(filename, 'r') as file:\n",
        "            lines = file.readlines()\n",
        "            lines = [line.strip() for line in lines]\n",
        "            return lines\n",
        "    except FileNotFoundError:\n",
        "        print(f\"Error: The file '{filename}' was not found.\")\n",
        "        return []\n",
        "    except IOError:\n",
        "        print(f\"Error: An I/O error occured while trying to read '{filename}'.\")\n",
        "        return []\n",
        "\n",
        "filename = \"example.txt\"\n",
        "file_lines = read_file(filename)\n",
        "print(file_lines)\n"
      ],
      "metadata": {
        "colab": {
          "base_uri": "https://localhost:8080/"
        },
        "id": "POva38Pl8vDB",
        "outputId": "e76fcdcd-16cf-454f-fc85-997af55c5546"
      },
      "execution_count": null,
      "outputs": [
        {
          "output_type": "stream",
          "name": "stdout",
          "text": [
            "Error: The file 'example.txt' was not found.\n",
            "None\n"
          ]
        }
      ]
    },
    {
      "cell_type": "markdown",
      "source": [
        "10. How can you append data to an existing file in Python?"
      ],
      "metadata": {
        "id": "ndVhmN8L92U9"
      }
    },
    {
      "cell_type": "code",
      "source": [
        "def append_to_file(filename, data):\n",
        "    try:\n",
        "        with open(filename, 'a') as file:\n",
        "            file.write(data + '\\n')\n",
        "        print(f\"Data appended to '{filename}' successfully.\")\n",
        "    except IOError:\n",
        "        print(f\"Error: Unable to write to '{filename}'.\")\n",
        "\n",
        "filename = \"example.txt\"\n",
        "data_to_append = \"This is a new line.\"\n",
        "append_to_file(filename, data_to_append)"
      ],
      "metadata": {
        "colab": {
          "base_uri": "https://localhost:8080/"
        },
        "id": "m4_Exdyr99ZD",
        "outputId": "a86f848a-ffe6-4bd4-8420-47f34622054a"
      },
      "execution_count": null,
      "outputs": [
        {
          "output_type": "stream",
          "name": "stdout",
          "text": [
            "Data appended to 'example.txt' successfully.\n"
          ]
        }
      ]
    },
    {
      "cell_type": "markdown",
      "source": [
        "11. Write a Python program that uses a try-except block to handle an error when attempting to access a dictionary key that doesn't exist?"
      ],
      "metadata": {
        "id": "yRKJTwHu-tus"
      }
    },
    {
      "cell_type": "code",
      "source": [
        "def get_value_from_dict(dictionary, key):\n",
        "    try:\n",
        "        value = dictionary[key]\n",
        "        print(f\"Value for key '{key}' is: {value}\")\n",
        "    except KeyError:\n",
        "        print(f\"Error: The key '{key}' does not exist in the dictionary.\")\n",
        "\n",
        "my_dict = {'name': \"Vijay\", \"age\": 30}\n",
        "get_value_from_dict(my_dict, \"name\")\n",
        "get_value_from_dict(my_dict, \"email\")\n"
      ],
      "metadata": {
        "colab": {
          "base_uri": "https://localhost:8080/"
        },
        "id": "Px8jt43D-4-d",
        "outputId": "2875b3d4-8b6a-428d-bd04-c317e9af6848"
      },
      "execution_count": null,
      "outputs": [
        {
          "output_type": "stream",
          "name": "stdout",
          "text": [
            "Value for key 'name' is: Vijay\n",
            "Error: The key 'email' does not exist in the dictionary.\n"
          ]
        }
      ]
    },
    {
      "cell_type": "markdown",
      "source": [
        "12. Write a program that demonstrates using multiple except blocks to handle different types of exceptions?"
      ],
      "metadata": {
        "id": "nSxOAhrEBT8i"
      }
    },
    {
      "cell_type": "code",
      "source": [
        "def exception_demo():\n",
        "  try:\n",
        "      num1 = int(input(\"Enter a number: \"))\n",
        "      num2 = int(input(\"Enter the second number: \"))\n",
        "      result = num1 / num2\n",
        "      print(f\"Result: {result}\")\n",
        "\n",
        "      my_list = [1, 2, 3]\n",
        "      index = int(input(\"Enter the index to access the list: \"))\n",
        "      print(f\"Value at index {index}: {my_list[index]}\")\n",
        "\n",
        "  except ValueError:\n",
        "      print(\"Invalid input. Please enter valid numbers.\")\n",
        "\n",
        "  except ZeroDivisionError:\n",
        "      print(\"Division by zero is not allowed.\")\n",
        "\n",
        "  except IndexError:\n",
        "      print(\"Index out of range! Please choose a valid index.\")\n",
        "\n",
        "  except Exception as e:\n",
        "      print(f\"An unexpected error occured: {e}\")\n",
        "\n",
        "exception_demo()"
      ],
      "metadata": {
        "id": "i4KwIc9KBs2s",
        "colab": {
          "base_uri": "https://localhost:8080/"
        },
        "outputId": "36259282-48b9-4b2f-98c5-796f6b7f90dc"
      },
      "execution_count": null,
      "outputs": [
        {
          "output_type": "stream",
          "name": "stdout",
          "text": [
            "Enter a number: 64\n",
            "Enter the second number: 8\n",
            "Result: 8.0\n",
            "Enter the index to access the list: 5\n",
            "Index out of range! Please choose a valid index.\n"
          ]
        }
      ]
    },
    {
      "cell_type": "markdown",
      "source": [
        "13. How would you check if a file exists before attempting to read it in Python?"
      ],
      "metadata": {
        "id": "GaeT6xUnnc4f"
      }
    },
    {
      "cell_type": "code",
      "source": [
        "import os\n",
        "\n",
        "file_path = 'example.txt'\n",
        "\n",
        "if os.path.exists(file_path):\n",
        "   with open(file_path, 'r') as file:\n",
        "       content = file.read()\n",
        "       print(content)\n",
        "else:\n",
        "     print(\"File does not exist.\")"
      ],
      "metadata": {
        "colab": {
          "base_uri": "https://localhost:8080/"
        },
        "id": "mk3NOAMonl-5",
        "outputId": "32a3f9a0-0e10-4e80-c63f-58e9c3802205"
      },
      "execution_count": null,
      "outputs": [
        {
          "output_type": "stream",
          "name": "stdout",
          "text": [
            "File does not exist.\n"
          ]
        }
      ]
    },
    {
      "cell_type": "markdown",
      "source": [
        "14. Write a program that uses the logging module to log both informational and error messages?"
      ],
      "metadata": {
        "id": "Hi6bvmbXo6wu"
      }
    },
    {
      "cell_type": "code",
      "source": [
        "import logging\n",
        "\n",
        "# Configure logging\n",
        "logging.basicConfig(\n",
        "    level=logging.DEBUG,    #Minimum level to log\n",
        "    filename='app.log',     #Log output file\n",
        "    filemode='w',           #Overwrite the file each time\n",
        "    format='%(asctime)s - %(levelname)s - %(message)s'\n",
        ")\n",
        "\n",
        "def divide_numbers(a, b):\n",
        "    logging.info(f\"Attempting to divide {a} by {b}\")\n",
        "    try:\n",
        "        result = a / b\n",
        "        logging.info(f\"Result: {result}\")\n",
        "        return result\n",
        "    except ZeroDivisionError as e:\n",
        "        logging.error(f\"Error occured: {e}\")\n",
        "        return None\n",
        "\n",
        "divide_numbers(10, 2) # Should log info\n",
        "divide_numbers(5, 0)  # Should log error"
      ],
      "metadata": {
        "colab": {
          "base_uri": "https://localhost:8080/"
        },
        "id": "SRIGaPawpDaG",
        "outputId": "4862bfe6-5acf-4d2b-a050-74c3a47b429f"
      },
      "execution_count": null,
      "outputs": [
        {
          "output_type": "stream",
          "name": "stderr",
          "text": [
            "ERROR:root:Error occured: division by zero\n"
          ]
        }
      ]
    },
    {
      "cell_type": "markdown",
      "source": [
        "15. Write a Python program that prints the content of a file and handles the case when the file is empty?"
      ],
      "metadata": {
        "id": "DHGozLB8rnzt"
      }
    },
    {
      "cell_type": "code",
      "source": [
        "def print_file_content(file_path):\n",
        "    try:\n",
        "        with open(file_path, 'r') as file:\n",
        "            content = file.read()\n",
        "            if content.strip() == \"\":\n",
        "                print(\"The file is empty.\")\n",
        "            else:\n",
        "                print(\"File content:\")\n",
        "                print(content)\n",
        "    except FileNotFoundError:\n",
        "        print(f\"Error: The file '{file_path}' was not found.\")\n",
        "    except IOError as e:\n",
        "        print(f\"Error: An I/O error occured: {e}\")\n",
        "\n",
        "file_name = input(\"Enter the file name: \")\n",
        "print_file_content(file_name)"
      ],
      "metadata": {
        "colab": {
          "base_uri": "https://localhost:8080/"
        },
        "id": "RytcOLCbrujF",
        "outputId": "cac2a963-3846-4805-803f-0ee748c08045"
      },
      "execution_count": null,
      "outputs": [
        {
          "output_type": "stream",
          "name": "stdout",
          "text": [
            "Enter the file name: python\n",
            "Error: The file 'python' was not found.\n"
          ]
        }
      ]
    },
    {
      "cell_type": "markdown",
      "source": [
        "16. Demonstrate how to use memory profiling to check the memory usage of a small program?"
      ],
      "metadata": {
        "id": "yTCVRYukt09R"
      }
    },
    {
      "cell_type": "code",
      "source": [
        "!pip install memory_profiler\n",
        "\n",
        "from memory_profiler import profile\n",
        "\n",
        "@profile\n",
        "def create_large_list():\n",
        "    numbers = [i ** 2 for i in range(10**6)]\n",
        "    return numbers\n",
        "\n",
        "if __name__ == \"__main__\":\n",
        "    create_large_list()\n",
        "\n",
        "!python -m memory_profiler your_create_large_list.py"
      ],
      "metadata": {
        "id": "L6mrqh4fxC6N",
        "colab": {
          "base_uri": "https://localhost:8080/"
        },
        "outputId": "ccd266b3-45fa-4886-cb03-3d4c1bcc2fce"
      },
      "execution_count": 41,
      "outputs": [
        {
          "output_type": "stream",
          "name": "stdout",
          "text": [
            "Requirement already satisfied: memory_profiler in /usr/local/lib/python3.11/dist-packages (0.61.0)\n",
            "Requirement already satisfied: psutil in /usr/local/lib/python3.11/dist-packages (from memory_profiler) (5.9.5)\n",
            "ERROR: Could not find file <ipython-input-41-dab29531dfeb>\n",
            "NOTE: %mprun can only be used on functions defined in physical files, and not in the IPython environment.\n",
            "Could not find script your_create_large_list.py\n"
          ]
        }
      ]
    },
    {
      "cell_type": "markdown",
      "source": [
        "17. Write a Python program to create and write a list of numbers to a file, one number per line?"
      ],
      "metadata": {
        "id": "II678jcYzBa4"
      }
    },
    {
      "cell_type": "code",
      "source": [
        "def write_numbers_to_file(file_path, numbers):\n",
        "    try:\n",
        "        with open(file_path, 'w') as file:\n",
        "            for number in numbers:\n",
        "                file.write(f\"{numbers}\\n\")\n",
        "        print(f\"Successfully wrote {len(numbers)} numbers to '{file_path}'.\")\n",
        "    except IOError as e:\n",
        "        print(f\"An error occured while writing to the file: {e}\")\n",
        "\n",
        "number_list = [10, 20, 30, 40, 50]\n",
        "file_name = 'numbers.txt'\n",
        "\n",
        "write_numbers_to_file(file_name, number_list)"
      ],
      "metadata": {
        "colab": {
          "base_uri": "https://localhost:8080/"
        },
        "id": "ZbZrtMO22G3K",
        "outputId": "588e68b0-472c-4396-9875-70c91e200b21"
      },
      "execution_count": null,
      "outputs": [
        {
          "output_type": "stream",
          "name": "stdout",
          "text": [
            "Successfully wrote 5 numbers to 'numbers.txt'.\n"
          ]
        }
      ]
    },
    {
      "cell_type": "markdown",
      "source": [
        "18. How would you implement a basic logging setup that logs to a file with rotation after 1MB?"
      ],
      "metadata": {
        "id": "dzYPy_SL3i9P"
      }
    },
    {
      "cell_type": "code",
      "source": [
        "import logging\n",
        "from logging.handlers import RotatingFileHandler\n",
        "\n",
        "#Set up a logger\n",
        "logger = logging.getLogger(\"my_logger\")\n",
        "logger.setLevel(logging.INFO)\n",
        "\n",
        "#Create a rotating file handler\n",
        "handler = RotatingFileHandler(\n",
        "    \"app.log\",\n",
        "    maxBytes=1 * 1024 * 1024,\n",
        "    backupCount=5\n",
        ")\n",
        "\n",
        "# Create a formatter and set it to the handler\n",
        "formatter = logging.Formatter(\"%(asctime)s - %(levelname)s - %(message)s\")\n",
        "handler.setFormatter(formatter)\n",
        "\n",
        "# Add the handler to the logger\n",
        "logger.addHandler(handler)\n",
        "\n",
        "# Log some messages\n",
        "logger.info(\"This is an info message.\")"
      ],
      "metadata": {
        "id": "Wyk-c5U63qCR",
        "colab": {
          "base_uri": "https://localhost:8080/"
        },
        "outputId": "85d5bc2d-30c2-40dc-b163-9e9a669e2588"
      },
      "execution_count": null,
      "outputs": [
        {
          "output_type": "stream",
          "name": "stderr",
          "text": [
            "INFO:my_logger:This is an info message.\n"
          ]
        }
      ]
    },
    {
      "cell_type": "markdown",
      "source": [
        "19. Write a program that handles both IndexError and KeyError using a try-except block?"
      ],
      "metadata": {
        "id": "pCP_2xOTcspz"
      }
    },
    {
      "cell_type": "code",
      "source": [
        "def access_elements():\n",
        "    my_list = [10, 20, 30]\n",
        "    my_dict = {'a': 1, 'b': 2}\n",
        "\n",
        "    try:\n",
        "        # Attempting to access an invalid list index\n",
        "        print(\"Accessing list element at index 5:\")\n",
        "        print(my_list[5])\n",
        "\n",
        "        # Attempting to access a missing dictionary key\n",
        "        print(\"Accessing dictionary key 'z':\")\n",
        "        print(my_dict['z'])\n",
        "\n",
        "    except IndexError:\n",
        "        print(\"Caught an IndexError: List index out of range.\")\n",
        "    except KeyError:\n",
        "        print(\"Caught a KeyError: Dictionary key not found.\")\n",
        "\n",
        "# Run the function\n",
        "access_elements()"
      ],
      "metadata": {
        "colab": {
          "base_uri": "https://localhost:8080/"
        },
        "id": "LK7UAa0dc0J6",
        "outputId": "26fad61f-0695-4b8f-97dc-45533f029c07"
      },
      "execution_count": null,
      "outputs": [
        {
          "output_type": "stream",
          "name": "stdout",
          "text": [
            "Accessing list element at index 5:\n",
            "Caught an IndexError: List index out of range.\n"
          ]
        }
      ]
    },
    {
      "cell_type": "markdown",
      "source": [
        "20. How would you open a file and read its contents using a context manager in Python?"
      ],
      "metadata": {
        "id": "MS5blc96fGVv"
      }
    },
    {
      "cell_type": "code",
      "source": [
        "def main():\n",
        "    file_path = 'example.txt'\n",
        "    try:\n",
        "        with open(file_path, 'r') as file:\n",
        "            content = file.read()\n",
        "            print(content)\n",
        "    except FileNotFoundError:\n",
        "        print(f\"Error: The file '{file_path}' was not found.\")\n",
        "    except Exception as e:\n",
        "        print(f\"An error occured: {e}\")\n",
        "\n",
        "if __name__ == \"__main__\":\n",
        "    main()"
      ],
      "metadata": {
        "colab": {
          "base_uri": "https://localhost:8080/"
        },
        "id": "A3cZfjwUuq-o",
        "outputId": "8d2bac77-ec25-4d24-cfd3-f0c11fb6e4ba"
      },
      "execution_count": null,
      "outputs": [
        {
          "output_type": "stream",
          "name": "stdout",
          "text": [
            "Error: The file 'example.txt' was not found.\n"
          ]
        }
      ]
    },
    {
      "cell_type": "markdown",
      "source": [
        "21. Write a Python program that reads a file and prints the number of occurrences of a specific word?"
      ],
      "metadata": {
        "id": "De8XY4GKhfcV"
      }
    },
    {
      "cell_type": "code",
      "source": [
        "def count_word_occurrences(file_path, target_word):\n",
        "    try:\n",
        "        with open(file_path, 'r') as file:\n",
        "            contents = file.read().lower()\n",
        "            words = contents.split()\n",
        "            count = words.count(target_word.lower())\n",
        "            print(f\"The word '{target_word}' occurs {count} times in the file.\")\n",
        "    except FileNotFoundError:\n",
        "        print(f\"Error: The file '{file_path}' was not found.\")\n",
        "\n",
        "file_name = 'example.txt'\n",
        "word_to_search = 'python'\n",
        "count_word_occurrences(file_name, word_to_search)"
      ],
      "metadata": {
        "colab": {
          "base_uri": "https://localhost:8080/"
        },
        "id": "fYnL1O2EhnCF",
        "outputId": "a6af21c2-5473-4c98-c6d0-c8ea61ef5cdb"
      },
      "execution_count": null,
      "outputs": [
        {
          "output_type": "stream",
          "name": "stdout",
          "text": [
            "Error: The file 'example.txt' was not found.\n"
          ]
        }
      ]
    },
    {
      "cell_type": "markdown",
      "source": [
        "22. How can you check if a file is empty before attempting to read its contents?"
      ],
      "metadata": {
        "id": "NOcyGTrpjQ1T"
      }
    },
    {
      "cell_type": "code",
      "source": [
        "import os\n",
        "\n",
        "def is_file_empty(file_path):\n",
        "    \"\"\"\n",
        "    Check if a file is empty.\n",
        "\n",
        "    Args:\n",
        "        file_path (str): The path to the file.\n",
        "\n",
        "    Returns:\n",
        "        bool: True if the file is empty or does not exist, False otherwise.\n",
        "    \"\"\"\n",
        "    if not os.path.exists(file_path):\n",
        "        return True\n",
        "    if os.path.isfile(file_path) and os.path.getsize(file_path) == 0:\n",
        "        return True\n",
        "    return False\n",
        "\n",
        "file_path = \"my_file.txt\"\n",
        "\n",
        "# Create an empty file for tsting\n",
        "with open(file_path, 'w') as f:\n",
        "    pass\n",
        "\n",
        "if is_file_empty(file_path):\n",
        "    print(f\"The file '{file_path}' is empty.\")\n",
        "else:\n",
        "    print(f\"The file '{file_path}' is not empty.\")\n",
        "    with open(file_path, \"r\") as f:\n",
        "        content = f.read()\n",
        "        print(f\"File content: {content}\")\n",
        "\n",
        "# Add content to the file\n",
        "with open(file_path, \"w\") as f:\n",
        "    f.write(\"This is some content\")\n",
        "\n",
        "if is_file_empty(file_path):\n",
        "    print(f\"The file '{file_path}' is empty.\")\n",
        "else:\n",
        "    print(f\"The file '{file_path}' is not empty.\")\n",
        "    with open(file_path, \"r\") as f:\n",
        "        content = f.read()\n",
        "        print(f\"File content: {content}\")"
      ],
      "metadata": {
        "colab": {
          "base_uri": "https://localhost:8080/"
        },
        "id": "kgaWSxVAqgFE",
        "outputId": "d6a1d94f-01b5-4a6e-ffa5-c1d4ca8e8fc4"
      },
      "execution_count": null,
      "outputs": [
        {
          "output_type": "stream",
          "name": "stdout",
          "text": [
            "The file 'my_file.txt' is empty.\n",
            "The file 'my_file.txt' is not empty.\n",
            "File content: This is some content\n"
          ]
        }
      ]
    },
    {
      "cell_type": "markdown",
      "source": [
        "23. Write a Python program that writes to a log file when an error occurs during file handling?"
      ],
      "metadata": {
        "id": "eUEQAk6al-gI"
      }
    },
    {
      "cell_type": "code",
      "source": [
        "import logging\n",
        "\n",
        "# Configure logging to write to a file\n",
        "logging.basicConfig(\n",
        "    filename='file_handling_error.log',\n",
        "    level=logging.ERROR,\n",
        "    format='%(asctime)s - %(levelname)s - %(message)s')\n",
        "\n",
        "def process_file(filename):\n",
        "  \"\"\"\n",
        "  Opens, reads and processes a file. Logs any errors encountered.\n",
        "  \"\"\"\n",
        "  try:\n",
        "      with open(filename, 'r') as file:\n",
        "          content = file.read()\n",
        "          # Simulate a potential error:\n",
        "          value = 10 / int(content)\n",
        "          print(\"File processed sucessfully.\")\n",
        "  except FileNotFoundError:\n",
        "     logging.error(f\"File not found: {filename}\")\n",
        "  except ZeroDivisionError:\n",
        "     logging.error(f\"Cannot divide by zero in file: {filename}\")\n",
        "  except ValueError:\n",
        "     logging.error(f\"Invalid value in file: {filename}\")\n",
        "  except Exception as e:\n",
        "     logging.error(f\"An unexpected error occured: {e}\")\n",
        "  else:\n",
        "     return value\n",
        "  return None\n",
        "\n",
        "if __name__ == \"__main__\":\n",
        "     file_name = \"sample.txt\"\n",
        "\n",
        "     with open(file_name, 'w') as f:\n",
        "         f.write(\"0\")\n",
        "\n",
        "     result = process_file(file_name)\n",
        "\n",
        "     if result is None:\n",
        "       print(\"File processing failed. Check the log file for details.\")\n",
        "     else:\n",
        "       print(f\"File processed sucessfully. Result: {result}\")"
      ],
      "metadata": {
        "colab": {
          "base_uri": "https://localhost:8080/"
        },
        "id": "AAMujU0gqYrb",
        "outputId": "5cbd0cbb-7be8-48de-b625-9d6be772fa6b"
      },
      "execution_count": null,
      "outputs": [
        {
          "output_type": "stream",
          "name": "stderr",
          "text": [
            "ERROR:root:Cannot divide by zero in file: sample.txt\n"
          ]
        },
        {
          "output_type": "stream",
          "name": "stdout",
          "text": [
            "File processing failed. Check the log file for details.\n"
          ]
        }
      ]
    }
  ]
}